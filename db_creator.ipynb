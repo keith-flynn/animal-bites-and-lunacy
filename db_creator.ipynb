{
 "cells": [
  {
   "cell_type": "markdown",
   "id": "4326593d",
   "metadata": {},
   "source": [
    "## Creating a SQLite Database from our CSV Files"
   ]
  },
  {
   "cell_type": "markdown",
   "id": "19046eb6",
   "metadata": {},
   "source": [
    "Using pandas and sqlite to create our .db file"
   ]
  },
  {
   "cell_type": "code",
   "execution_count": 1,
   "id": "72579aec",
   "metadata": {},
   "outputs": [],
   "source": [
    "import pandas as pd\n",
    "import sqlite3"
   ]
  },
  {
   "cell_type": "markdown",
   "id": "82b6f5c9",
   "metadata": {},
   "source": [
    "We use pandas to load the csv into a dataframe and display the first few rows"
   ]
  },
  {
   "cell_type": "code",
   "execution_count": 2,
   "id": "9b618c4f",
   "metadata": {},
   "outputs": [
    {
     "name": "stdout",
     "output_type": "stream",
     "text": [
      "             bite_date SpeciesIDDesc BreedIDDesc GenderIDDesc       color  \\\n",
      "0  1985-05-05 00:00:00           DOG         NaN       FEMALE  LIG. BROWN   \n",
      "1  1986-02-12 00:00:00           DOG         NaN      UNKNOWN   BRO & BLA   \n",
      "2  1987-05-07 00:00:00           DOG         NaN      UNKNOWN         NaN   \n",
      "3  1988-10-02 00:00:00           DOG         NaN         MALE   BLA & BRO   \n",
      "4  1989-08-29 00:00:00           DOG         NaN       FEMALE     BLK-WHT   \n",
      "\n",
      "   vaccination_yrs     vaccination_date victim_zip AdvIssuedYNDesc  \\\n",
      "0              1.0  1985-06-20 00:00:00      40229              NO   \n",
      "1              NaN                  NaN      40218              NO   \n",
      "2              NaN                  NaN      40219              NO   \n",
      "3              NaN                  NaN        NaN              NO   \n",
      "4              NaN                  NaN        NaN              NO   \n",
      "\n",
      "  WhereBittenIDDesc      quarantine_date DispositionIDDesc head_sent_date  \\\n",
      "0              BODY  1985-05-05 00:00:00           UNKNOWN            NaN   \n",
      "1              BODY  1986-02-12 00:00:00           UNKNOWN            NaN   \n",
      "2              BODY  1990-05-07 00:00:00           UNKNOWN            NaN   \n",
      "3              BODY  1990-10-02 00:00:00           UNKNOWN            NaN   \n",
      "4              BODY                  NaN           UNKNOWN            NaN   \n",
      "\n",
      "  release_date ResultsIDDesc  \n",
      "0          NaN       UNKNOWN  \n",
      "1          NaN       UNKNOWN  \n",
      "2          NaN       UNKNOWN  \n",
      "3          NaN       UNKNOWN  \n",
      "4          NaN       UNKNOWN  \n"
     ]
    }
   ],
   "source": [
    "bite_df = pd.read_csv('assets/Health_AnimalBites.csv')\n",
    "print(bite_df.head())"
   ]
  },
  {
   "cell_type": "markdown",
   "id": "c97c565e",
   "metadata": {},
   "source": [
    "Now sqlite creates a database and our first table named Bites"
   ]
  },
  {
   "cell_type": "code",
   "execution_count": 3,
   "id": "8fab530f",
   "metadata": {},
   "outputs": [],
   "source": [
    "with sqlite3.connect('lunacy.db') as conn:\n",
    "    bite_df.to_sql('Bites', conn)"
   ]
  },
  {
   "cell_type": "markdown",
   "id": "61a83ebb",
   "metadata": {},
   "source": [
    "Now we do the same for our csv with moon phase data"
   ]
  },
  {
   "cell_type": "code",
   "execution_count": 4,
   "id": "b9c8528e",
   "metadata": {},
   "outputs": [
    {
     "name": "stdout",
     "output_type": "stream",
     "text": [
      "   Unnamed: 0                    date  illum_pct           phase\n",
      "0           0  1800-01-01 12:00:00.00      36.00   first quarter\n",
      "1           1  1800-01-02 12:00:00.00      45.58   first quarter\n",
      "2           2  1800-01-03 12:00:00.00      55.14   first quarter\n",
      "3           3  1800-01-04 12:00:00.00      64.41   first quarter\n",
      "4           4  1800-01-05 12:00:00.00      73.12  waxing gibbous\n"
     ]
    }
   ],
   "source": [
    "moon_df = pd.read_csv('assets/moon_illumination_1800-2100.csv')\n",
    "print(moon_df.head())"
   ]
  },
  {
   "cell_type": "markdown",
   "id": "94aa4bce",
   "metadata": {},
   "source": [
    "This will become the table called Moon"
   ]
  },
  {
   "cell_type": "code",
   "execution_count": 5,
   "id": "fc6ee0ff",
   "metadata": {},
   "outputs": [],
   "source": [
    "with sqlite3.connect('lunacy.db') as conn:\n",
    "    moon_df.to_sql('Moon', conn)"
   ]
  }
 ],
 "metadata": {
  "kernelspec": {
   "display_name": "Python 3 (ipykernel)",
   "language": "python",
   "name": "python3"
  },
  "language_info": {
   "codemirror_mode": {
    "name": "ipython",
    "version": 3
   },
   "file_extension": ".py",
   "mimetype": "text/x-python",
   "name": "python",
   "nbconvert_exporter": "python",
   "pygments_lexer": "ipython3",
   "version": "3.10.8"
  }
 },
 "nbformat": 4,
 "nbformat_minor": 5
}
