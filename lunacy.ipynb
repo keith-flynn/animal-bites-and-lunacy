{
 "cells": [
  {
   "cell_type": "markdown",
   "id": "4326593d",
   "metadata": {},
   "source": [
    "## Creating a SQLite Database from our CSV Source Files"
   ]
  },
  {
   "attachments": {},
   "cell_type": "markdown",
   "id": "19046eb6",
   "metadata": {},
   "source": [
    "Using pandas and sqlite to create our .db file. We use os to prevent errors if our .db file and tables already exists with future, successive runs of the notebook. Matplotlib is required for a brief visualization at the conclusion."
   ]
  },
  {
   "cell_type": "code",
   "execution_count": 80,
   "id": "72579aec",
   "metadata": {},
   "outputs": [],
   "source": [
    "import pandas as pd\n",
    "import sqlite3\n",
    "import os\n",
    "import matplotlib as plt"
   ]
  },
  {
   "cell_type": "markdown",
   "id": "82b6f5c9",
   "metadata": {},
   "source": [
    "We use pandas to load the csv into a dataframe and display the first few rows"
   ]
  },
  {
   "cell_type": "code",
   "execution_count": 81,
   "id": "9b618c4f",
   "metadata": {},
   "outputs": [
    {
     "name": "stdout",
     "output_type": "stream",
     "text": [
      "             bite_date SpeciesIDDesc BreedIDDesc GenderIDDesc       color  \\\n",
      "0  1985-05-05 00:00:00           DOG         NaN       FEMALE  LIG. BROWN   \n",
      "1  1986-02-12 00:00:00           DOG         NaN      UNKNOWN   BRO & BLA   \n",
      "2  1987-05-07 00:00:00           DOG         NaN      UNKNOWN         NaN   \n",
      "3  1988-10-02 00:00:00           DOG         NaN         MALE   BLA & BRO   \n",
      "4  1989-08-29 00:00:00           DOG         NaN       FEMALE     BLK-WHT   \n",
      "\n",
      "   vaccination_yrs     vaccination_date victim_zip AdvIssuedYNDesc  \\\n",
      "0              1.0  1985-06-20 00:00:00      40229              NO   \n",
      "1              NaN                  NaN      40218              NO   \n",
      "2              NaN                  NaN      40219              NO   \n",
      "3              NaN                  NaN        NaN              NO   \n",
      "4              NaN                  NaN        NaN              NO   \n",
      "\n",
      "  WhereBittenIDDesc      quarantine_date DispositionIDDesc head_sent_date  \\\n",
      "0              BODY  1985-05-05 00:00:00           UNKNOWN            NaN   \n",
      "1              BODY  1986-02-12 00:00:00           UNKNOWN            NaN   \n",
      "2              BODY  1990-05-07 00:00:00           UNKNOWN            NaN   \n",
      "3              BODY  1990-10-02 00:00:00           UNKNOWN            NaN   \n",
      "4              BODY                  NaN           UNKNOWN            NaN   \n",
      "\n",
      "  release_date ResultsIDDesc  \n",
      "0          NaN       UNKNOWN  \n",
      "1          NaN       UNKNOWN  \n",
      "2          NaN       UNKNOWN  \n",
      "3          NaN       UNKNOWN  \n",
      "4          NaN       UNKNOWN  \n"
     ]
    }
   ],
   "source": [
    "# Load bites CSV to dataframe\n",
    "bite_df = pd.read_csv('assets/Health_AnimalBites.csv')\n",
    "print(bite_df.head())"
   ]
  },
  {
   "attachments": {},
   "cell_type": "markdown",
   "id": "c97c565e",
   "metadata": {},
   "source": [
    "Sqlite creates a database and our first table named Bites"
   ]
  },
  {
   "cell_type": "code",
   "execution_count": 82,
   "id": "8fab530f",
   "metadata": {},
   "outputs": [
    {
     "name": "stdout",
     "output_type": "stream",
     "text": [
      "Database file already exists. Skipping creation.\n"
     ]
    }
   ],
   "source": [
    "# Create lunacy_db.db and add Bites table\n",
    "# if statement skips process if lunacy_db.db already exists\n",
    "if not os.path.isfile('lunacy_db.db'):\n",
    "    with sqlite3.connect('lunacy_db.db') as conn:\n",
    "        bite_df.to_sql('Bites', conn)\n",
    "else:\n",
    "    print(\"Database file already exists. Skipping creation.\")"
   ]
  },
  {
   "attachments": {},
   "cell_type": "markdown",
   "id": "61a83ebb",
   "metadata": {},
   "source": [
    "We do the same for our csv with moon phase data"
   ]
  },
  {
   "cell_type": "code",
   "execution_count": 83,
   "id": "b9c8528e",
   "metadata": {},
   "outputs": [
    {
     "name": "stdout",
     "output_type": "stream",
     "text": [
      "   Unnamed: 0                    date  illum_pct           phase\n",
      "0           0  1800-01-01 12:00:00.00      36.00   first quarter\n",
      "1           1  1800-01-02 12:00:00.00      45.58   first quarter\n",
      "2           2  1800-01-03 12:00:00.00      55.14   first quarter\n",
      "3           3  1800-01-04 12:00:00.00      64.41   first quarter\n",
      "4           4  1800-01-05 12:00:00.00      73.12  waxing gibbous\n"
     ]
    }
   ],
   "source": [
    "# Load moon CSV to dataframe\n",
    "moon_df = pd.read_csv('assets/moon_illumination_1800-2100.csv')\n",
    "print(moon_df.head())"
   ]
  },
  {
   "cell_type": "markdown",
   "id": "94aa4bce",
   "metadata": {},
   "source": [
    "This will become the table called Moon"
   ]
  },
  {
   "cell_type": "code",
   "execution_count": 84,
   "id": "fc6ee0ff",
   "metadata": {},
   "outputs": [],
   "source": [
    "# Add Moon table to lunacy_db.db\n",
    "# This block prevents errors if db and table already exist\n",
    "if not os.path.isfile('lunacy_db.db'):\n",
    "    with sqlite3.connect('lunacy_db.db') as conn:\n",
    "        bite_df.to_sql('Bites', conn)\n",
    "        moon_df.to_sql('Moon', conn)\n",
    "else:\n",
    "    with sqlite3.connect('lunacy_db.db') as conn:\n",
    "        cur = conn.cursor()\n",
    "        cur.execute(\"SELECT name FROM sqlite_master WHERE type='table' AND name='Bites'\")\n",
    "        bites_exists = cur.fetchone() is not None\n",
    "        cur.execute(\"SELECT name FROM sqlite_master WHERE type='table' AND name='Moon'\")\n",
    "        moon_exists = cur.fetchone() is not None\n",
    "\n",
    "    if not bites_exists:\n",
    "        with sqlite3.connect('lunacy_db.db') as conn:\n",
    "            bite_df.to_sql('Bites', conn)\n",
    "\n",
    "    if not moon_exists:\n",
    "        with sqlite3.connect('lunacy_db.db') as conn:\n",
    "            moon_df.to_sql('Moon', conn)"
   ]
  },
  {
   "attachments": {},
   "cell_type": "markdown",
   "id": "419acf50",
   "metadata": {},
   "source": [
    "This data has very few entries before 2010 and after 2017. We will select our data from between these times."
   ]
  },
  {
   "cell_type": "markdown",
   "id": "69dfeeda",
   "metadata": {},
   "source": [
    "## Query our SQL data"
   ]
  },
  {
   "cell_type": "markdown",
   "id": "fa18ab0d",
   "metadata": {},
   "source": [
    "First, our animal bite data."
   ]
  },
  {
   "cell_type": "code",
   "execution_count": 85,
   "id": "1eae12e9",
   "metadata": {},
   "outputs": [
    {
     "name": "stdout",
     "output_type": "stream",
     "text": [
      "             bite_date SpeciesIDDesc BreedIDDesc GenderIDDesc    color  \\\n",
      "0  2009-10-29 00:00:00           CAT        None       FEMALE     GRAY   \n",
      "1  2009-12-02 00:00:00           DOG        None         MALE  TAN-BRN   \n",
      "2  2009-12-11 00:00:00           DOG        None         MALE  BLK-BRN   \n",
      "3  2009-12-21 00:00:00           DOG        None      UNKNOWN    BLACK   \n",
      "4  2009-12-24 00:00:00           DOG        None         MALE  BRN-WHT   \n",
      "\n",
      "  victim_zip WhereBittenIDDesc ResultsIDDesc  \n",
      "0      40206              BODY       UNKNOWN  \n",
      "1      40291              BODY       UNKNOWN  \n",
      "2      40272              BODY       UNKNOWN  \n",
      "3      40218              HEAD       UNKNOWN  \n",
      "4      40165              HEAD       UNKNOWN  \n"
     ]
    }
   ],
   "source": [
    "# Connect to lunacy_db.db and query the potentially relevant bite data\n",
    "conn = sqlite3.connect(\"lunacy_db.db\")\n",
    "\n",
    "bite_df = pd.read_sql(\"\"\"SELECT \n",
    "                            bite_date, \n",
    "                            SpeciesIDDesc, \n",
    "                            BreedIDDesc, \n",
    "                            GenderIDDesc, \n",
    "                            color, \n",
    "                            victim_zip, \n",
    "                            WhereBittenIDDesc, \n",
    "                            ResultsIDDesc \n",
    "                        FROM \n",
    "                            bites b \n",
    "                        WHERE \n",
    "                            b.bite_date \n",
    "                        BETWEEN \n",
    "                            '2009-10-29' and '2017-09-08' \n",
    "                        ORDER BY \n",
    "                            bite_date;\"\"\", conn)\n",
    "\n",
    "# Quick peek\n",
    "print(bite_df.head())"
   ]
  },
  {
   "cell_type": "markdown",
   "id": "a188840d",
   "metadata": {},
   "source": [
    "Now, our lunar data."
   ]
  },
  {
   "cell_type": "code",
   "execution_count": 86,
   "id": "4e9b5bd8",
   "metadata": {},
   "outputs": [
    {
     "name": "stdout",
     "output_type": "stream",
     "text": [
      "                     date  illum_pct           phase\n",
      "0  2009-10-29 12:00:00.00      80.90  waxing gibbous\n",
      "1  2009-10-30 12:00:00.00      88.09  waxing gibbous\n",
      "2  2009-10-31 12:00:00.00      93.90  waxing gibbous\n",
      "3  2009-11-01 12:00:00.00      97.94            full\n",
      "4  2009-11-02 12:00:00.00      99.88            full\n"
     ]
    }
   ],
   "source": [
    "# Connect to lunacy_db.db and query the moon phase data\n",
    "moon_df = pd.read_sql(\"\"\"SELECT \n",
    "                            date, \n",
    "                            illum_pct, \n",
    "                            phase \n",
    "                        FROM \n",
    "                            moon m \n",
    "                        WHERE \n",
    "                            m.date \n",
    "                        BETWEEN \n",
    "                            '2009-10-29' and '2017-09-08' \n",
    "                        ORDER BY \n",
    "                            date;\"\"\", conn)\n",
    "\n",
    "# Quick peek (again)\n",
    "print(moon_df.head())"
   ]
  },
  {
   "attachments": {},
   "cell_type": "markdown",
   "id": "98b51ebd",
   "metadata": {},
   "source": [
    "We can now begin to see what we're working with."
   ]
  },
  {
   "cell_type": "code",
   "execution_count": 87,
   "id": "73ffc286",
   "metadata": {},
   "outputs": [
    {
     "name": "stdout",
     "output_type": "stream",
     "text": [
      "<class 'pandas.core.frame.DataFrame'>\n",
      "RangeIndex: 8631 entries, 0 to 8630\n",
      "Data columns (total 8 columns):\n",
      " #   Column             Non-Null Count  Dtype \n",
      "---  ------             --------------  ----- \n",
      " 0   bite_date          8631 non-null   object\n",
      " 1   SpeciesIDDesc      8530 non-null   object\n",
      " 2   BreedIDDesc        3696 non-null   object\n",
      " 3   GenderIDDesc       6355 non-null   object\n",
      " 4   color              6307 non-null   object\n",
      " 5   victim_zip         6879 non-null   object\n",
      " 6   WhereBittenIDDesc  8303 non-null   object\n",
      " 7   ResultsIDDesc      1328 non-null   object\n",
      "dtypes: object(8)\n",
      "memory usage: 539.6+ KB\n",
      "None\n",
      "<class 'pandas.core.frame.DataFrame'>\n",
      "RangeIndex: 2871 entries, 0 to 2870\n",
      "Data columns (total 3 columns):\n",
      " #   Column     Non-Null Count  Dtype  \n",
      "---  ------     --------------  -----  \n",
      " 0   date       2871 non-null   object \n",
      " 1   illum_pct  2871 non-null   float64\n",
      " 2   phase      2871 non-null   object \n",
      "dtypes: float64(1), object(2)\n",
      "memory usage: 67.4+ KB\n",
      "None\n"
     ]
    }
   ],
   "source": [
    "print(bite_df.info())\n",
    "print(moon_df.info())"
   ]
  },
  {
   "cell_type": "markdown",
   "id": "b10eceaa",
   "metadata": {},
   "source": [
    "First, we'll convert our two date columns to datetime64, then drop the times as one is empty and the other is noon."
   ]
  },
  {
   "cell_type": "code",
   "execution_count": 88,
   "id": "cbf17c1f",
   "metadata": {},
   "outputs": [
    {
     "name": "stdout",
     "output_type": "stream",
     "text": [
      "<class 'pandas.core.frame.DataFrame'>\n",
      "RangeIndex: 8631 entries, 0 to 8630\n",
      "Data columns (total 8 columns):\n",
      " #   Column             Non-Null Count  Dtype         \n",
      "---  ------             --------------  -----         \n",
      " 0   bite_date          8631 non-null   datetime64[ns]\n",
      " 1   SpeciesIDDesc      8530 non-null   object        \n",
      " 2   BreedIDDesc        3696 non-null   object        \n",
      " 3   GenderIDDesc       6355 non-null   object        \n",
      " 4   color              6307 non-null   object        \n",
      " 5   victim_zip         6879 non-null   object        \n",
      " 6   WhereBittenIDDesc  8303 non-null   object        \n",
      " 7   ResultsIDDesc      1328 non-null   object        \n",
      "dtypes: datetime64[ns](1), object(7)\n",
      "memory usage: 539.6+ KB\n",
      "None\n"
     ]
    }
   ],
   "source": [
    "# Convert to datetime and check dtype\n",
    "bite_df['bite_date'] = pd.to_datetime(bite_df['bite_date'], errors='coerce')\n",
    "print(bite_df.info())"
   ]
  },
  {
   "cell_type": "code",
   "execution_count": 89,
   "id": "73933196",
   "metadata": {},
   "outputs": [
    {
     "name": "stdout",
     "output_type": "stream",
     "text": [
      "<class 'pandas.core.frame.DataFrame'>\n",
      "RangeIndex: 2871 entries, 0 to 2870\n",
      "Data columns (total 3 columns):\n",
      " #   Column     Non-Null Count  Dtype         \n",
      "---  ------     --------------  -----         \n",
      " 0   date       2871 non-null   datetime64[ns]\n",
      " 1   illum_pct  2871 non-null   float64       \n",
      " 2   phase      2871 non-null   object        \n",
      "dtypes: datetime64[ns](1), float64(1), object(1)\n",
      "memory usage: 67.4+ KB\n",
      "None\n"
     ]
    }
   ],
   "source": [
    "# Convert object to datetime again with moon data\n",
    "moon_df['date'] = pd.to_datetime(moon_df['date'])\n",
    "print(moon_df.info())"
   ]
  },
  {
   "attachments": {},
   "cell_type": "markdown",
   "id": "6a257b50",
   "metadata": {},
   "source": [
    "We will need to join our dataframes using the date. Currently our bite dataframe possesses empty timestamps in the datetime (00:00:00.00) and our lunar dataframe records all times at exactly noon (12:00:00.00). We will convert the datetime column to just the date. In doing so it is converted back to an object. We then repeat the process to again set the column as datetime64."
   ]
  },
  {
   "cell_type": "code",
   "execution_count": 90,
   "id": "40a5d41b",
   "metadata": {},
   "outputs": [
    {
     "name": "stdout",
     "output_type": "stream",
     "text": [
      "<class 'pandas.core.frame.DataFrame'>\n",
      "RangeIndex: 2871 entries, 0 to 2870\n",
      "Data columns (total 3 columns):\n",
      " #   Column     Non-Null Count  Dtype  \n",
      "---  ------     --------------  -----  \n",
      " 0   date       2871 non-null   object \n",
      " 1   illum_pct  2871 non-null   float64\n",
      " 2   phase      2871 non-null   object \n",
      "dtypes: float64(1), object(2)\n",
      "memory usage: 67.4+ KB\n",
      "None\n",
      "<class 'pandas.core.frame.DataFrame'>\n",
      "RangeIndex: 2871 entries, 0 to 2870\n",
      "Data columns (total 3 columns):\n",
      " #   Column     Non-Null Count  Dtype         \n",
      "---  ------     --------------  -----         \n",
      " 0   date       2871 non-null   datetime64[ns]\n",
      " 1   illum_pct  2871 non-null   float64       \n",
      " 2   phase      2871 non-null   object        \n",
      "dtypes: datetime64[ns](1), float64(1), object(1)\n",
      "memory usage: 67.4+ KB\n",
      "None\n"
     ]
    }
   ],
   "source": [
    "# Convert 'date' to only hold date and not time\n",
    "# This makes it an object again\n",
    "# Re-convert to datetime for merge compatability\n",
    "moon_df['date'] = moon_df['date'].dt.date\n",
    "print(moon_df.info())\n",
    "moon_df['date'] = pd.to_datetime(moon_df['date'])\n",
    "print(moon_df.info())"
   ]
  },
  {
   "cell_type": "markdown",
   "id": "88ad0de5",
   "metadata": {},
   "source": [
    "We now combine our two dataframes on the date."
   ]
  },
  {
   "cell_type": "code",
   "execution_count": 91,
   "id": "b7ffaa66",
   "metadata": {},
   "outputs": [
    {
     "name": "stdout",
     "output_type": "stream",
     "text": [
      "   bite_date SpeciesIDDesc BreedIDDesc GenderIDDesc    color victim_zip  \\\n",
      "0 2009-10-29           CAT        None       FEMALE     GRAY      40206   \n",
      "1 2009-12-02           DOG        None         MALE  TAN-BRN      40291   \n",
      "2 2009-12-11           DOG        None         MALE  BLK-BRN      40272   \n",
      "3 2009-12-21           DOG        None      UNKNOWN    BLACK      40218   \n",
      "4 2009-12-24           DOG        None         MALE  BRN-WHT      40165   \n",
      "\n",
      "  WhereBittenIDDesc ResultsIDDesc       date  illum_pct            phase  \n",
      "0              BODY       UNKNOWN 2009-10-29      80.90   waxing gibbous  \n",
      "1              BODY       UNKNOWN 2009-12-02      99.96             full  \n",
      "2              BODY       UNKNOWN 2009-12-11      24.10  waning crescent  \n",
      "3              HEAD       UNKNOWN 2009-12-21      21.11  waxing crescent  \n",
      "4              HEAD       UNKNOWN 2009-12-24      47.87    first quarter  \n"
     ]
    }
   ],
   "source": [
    "# Merge dataframes on dates\n",
    "df = pd.merge(bite_df, moon_df, left_on='bite_date', right_on='date')\n",
    "print(df.head())"
   ]
  },
  {
   "cell_type": "markdown",
   "id": "3a430e80",
   "metadata": {},
   "source": [
    "For the sake of having a copy on file instead of memory, I will now save our merged dataframe as a CSV file."
   ]
  },
  {
   "cell_type": "code",
   "execution_count": 92,
   "id": "0b67f294",
   "metadata": {},
   "outputs": [],
   "source": [
    "# Savesies\n",
    "df.to_csv('assets/merged_df.csv')"
   ]
  },
  {
   "cell_type": "markdown",
   "id": "2670d104",
   "metadata": {},
   "source": [
    "## EDA"
   ]
  },
  {
   "cell_type": "markdown",
   "id": "f73e8796",
   "metadata": {},
   "source": [
    "Now that our data is all in one dataframe, is is time for a bit of exploratory data analysis."
   ]
  },
  {
   "cell_type": "code",
   "execution_count": 93,
   "id": "554ae718",
   "metadata": {},
   "outputs": [
    {
     "name": "stdout",
     "output_type": "stream",
     "text": [
      "                            bite_date SpeciesIDDesc BreedIDDesc GenderIDDesc  \\\n",
      "count                            8631          8530        3696         6355   \n",
      "unique                            NaN             9         101            3   \n",
      "top                               NaN           DOG    PIT BULL         MALE   \n",
      "freq                              NaN          6883        1078         3769   \n",
      "mean    2013-10-14 19:02:31.407716352           NaN         NaN          NaN   \n",
      "min               2009-10-29 00:00:00           NaN         NaN          NaN   \n",
      "25%               2011-11-14 00:00:00           NaN         NaN          NaN   \n",
      "50%               2013-09-12 00:00:00           NaN         NaN          NaN   \n",
      "75%               2015-08-18 12:00:00           NaN         NaN          NaN   \n",
      "max               2017-09-07 00:00:00           NaN         NaN          NaN   \n",
      "std                               NaN           NaN         NaN          NaN   \n",
      "\n",
      "        color victim_zip WhereBittenIDDesc ResultsIDDesc  \\\n",
      "count    6307       6879              8303          1328   \n",
      "unique    699        226                 3             3   \n",
      "top     BLACK      40272              BODY       UNKNOWN   \n",
      "freq      662        371              6151          1195   \n",
      "mean      NaN        NaN               NaN           NaN   \n",
      "min       NaN        NaN               NaN           NaN   \n",
      "25%       NaN        NaN               NaN           NaN   \n",
      "50%       NaN        NaN               NaN           NaN   \n",
      "75%       NaN        NaN               NaN           NaN   \n",
      "max       NaN        NaN               NaN           NaN   \n",
      "std       NaN        NaN               NaN           NaN   \n",
      "\n",
      "                                 date    illum_pct           phase  \n",
      "count                            8631  8631.000000            8631  \n",
      "unique                            NaN          NaN               8  \n",
      "top                               NaN          NaN  waning gibbous  \n",
      "freq                              NaN          NaN            1352  \n",
      "mean    2013-10-14 19:02:31.407716352    50.310014             NaN  \n",
      "min               2009-10-29 00:00:00     0.000000             NaN  \n",
      "25%               2011-11-14 00:00:00    15.440000             NaN  \n",
      "50%               2013-09-12 00:00:00    50.130000             NaN  \n",
      "75%               2015-08-18 12:00:00    85.525000             NaN  \n",
      "max               2017-09-07 00:00:00   100.000000             NaN  \n",
      "std                               NaN    35.260873             NaN  \n"
     ]
    }
   ],
   "source": [
    "# Describe\n",
    "print(df.describe(include='all', datetime_is_numeric=True))"
   ]
  },
  {
   "cell_type": "markdown",
   "id": "3f64032e",
   "metadata": {},
   "source": [
    "Let's see what interesting information we can glean from this dataset."
   ]
  },
  {
   "cell_type": "code",
   "execution_count": 94,
   "id": "acfb4890",
   "metadata": {},
   "outputs": [
    {
     "name": "stdout",
     "output_type": "stream",
     "text": [
      "PIT BULL           1078\n",
      "GERM SHEPHERD       323\n",
      "LABRADOR RETRIV     248\n",
      "BOXER               181\n",
      "CHICHAUHUA          164\n",
      "Name: BreedIDDesc, dtype: int64\n",
      "['CAT' 'DOG' 'BAT' 'RACCOON' 'OTHER' None 'HORSE' 'RABBIT' 'SKUNK'\n",
      " 'FERRET']\n",
      "DOG        6883\n",
      "CAT        1529\n",
      "BAT          76\n",
      "RACCOON      21\n",
      "OTHER         8\n",
      "HORSE         5\n",
      "FERRET        4\n",
      "RABBIT        3\n",
      "SKUNK         1\n",
      "Name: SpeciesIDDesc, dtype: int64\n",
      "40272    371\n",
      "40291    354\n",
      "40216    354\n",
      "40215    342\n",
      "40214    335\n",
      "40299    320\n",
      "40229    294\n",
      "40219    278\n",
      "40218    246\n",
      "40245    234\n",
      "Name: victim_zip, dtype: int64\n"
     ]
    }
   ],
   "source": [
    "# What kinds of dogs are out there biting the citizens of Louisville?\n",
    "breed_total = df[\"BreedIDDesc\"].value_counts()\n",
    "print(breed_total.head())\n",
    "\n",
    "# What types of animals appear on this list?\n",
    "unique_species = df['SpeciesIDDesc'].unique()\n",
    "print(unique_species)\n",
    "\n",
    "# How many bites from these different species?\n",
    "species_total = df[\"SpeciesIDDesc\"].value_counts()\n",
    "print(species_total)\n",
    "\n",
    "# Where are most bites occurring?\n",
    "zip_location = df['victim_zip'].value_counts()\n",
    "print(zip_location.head(10))"
   ]
  },
  {
   "attachments": {},
   "cell_type": "markdown",
   "id": "1a3ba2ff",
   "metadata": {},
   "source": [
    "+ Fewer horse bites than one may assume for Kentucky. \n",
    "+ With seventy-six reported bat bites, I now question some of the information that documentarian David Attenborough has mentioned, seemingly contradicting how he claims bats behave. \n",
    "+ I also wonder if our one unfortunate skunk-bite victim knows how unique their situation really was.\n",
    "+ Visualizations for these can be found on my [Tableau Dashboard](https://public.tableau.com/views/AnimalBitesandLunacy/dashboard_animal_bites_and_lunacy?:language=en-US&:display_count=n&:origin=viz_share_link)"
   ]
  },
  {
   "cell_type": "markdown",
   "id": "18e2516f",
   "metadata": {},
   "source": [
    "Here we look at the total counts of each individual phase."
   ]
  },
  {
   "cell_type": "code",
   "execution_count": 95,
   "id": "4ceda466",
   "metadata": {},
   "outputs": [
    {
     "name": "stdout",
     "output_type": "stream",
     "text": [
      "waning gibbous     1352\n",
      "waning crescent    1300\n",
      "waxing gibbous     1295\n",
      "waxing crescent    1279\n",
      "last quarter        883\n",
      "first quarter       863\n",
      "full                832\n",
      "new                 827\n",
      "Name: phase, dtype: int64\n"
     ]
    }
   ],
   "source": [
    "# How many total bites occurred during each moon phase?\n",
    "phases_total = df[\"phase\"].value_counts()\n",
    "print(phases_total)"
   ]
  },
  {
   "cell_type": "markdown",
   "id": "cd4b10d8",
   "metadata": {},
   "source": [
    "Full moons appear to be on the low end of total reported bites."
   ]
  },
  {
   "cell_type": "markdown",
   "id": "ad9196a8",
   "metadata": {},
   "source": [
    "## Correlation"
   ]
  },
  {
   "attachments": {},
   "cell_type": "markdown",
   "id": "5c762cad",
   "metadata": {},
   "source": [
    "To find any correlation between moon phases and bites we will also need to include dates in which no bites were reported. For this we will be better off making another SQL query to tailor a separate dataframe to our parameters. We'll start with **ALL** moon phases and dates, and join bite data to include the necessary data."
   ]
  },
  {
   "cell_type": "code",
   "execution_count": 96,
   "id": "e8405ed1",
   "metadata": {},
   "outputs": [],
   "source": [
    "# SQL request for moon data for all dates in this timeframe\n",
    "moon_corr_df = pd.read_sql(\"\"\"SELECT \n",
    "                            date, \n",
    "                            phase \n",
    "                        FROM \n",
    "                            moon m \n",
    "                        WHERE \n",
    "                            m.date \n",
    "                        BETWEEN \n",
    "                            '2009-10-29' and '2017-09-08' \n",
    "                        ORDER BY \n",
    "                            date;\"\"\", conn)\n",
    "\n",
    "# DEBUG make a function out of this?\n",
    "# again convert to datetime, split on date, convert to datetime\n",
    "moon_corr_df['date'] = pd.to_datetime(moon_corr_df['date'])\n",
    "moon_corr_df['date'] = moon_corr_df['date'].dt.date\n",
    "moon_corr_df['date'] = pd.to_datetime(moon_corr_df['date'])"
   ]
  },
  {
   "cell_type": "markdown",
   "id": "33504353",
   "metadata": {},
   "source": [
    "We'll now make a secondary dataframe off of our bite_df dataframe, but without some unnecessary columns."
   ]
  },
  {
   "cell_type": "code",
   "execution_count": 97,
   "id": "67ed39f9",
   "metadata": {},
   "outputs": [
    {
     "name": "stdout",
     "output_type": "stream",
     "text": [
      "0   2009-10-29\n",
      "1   2009-12-02\n",
      "2   2009-12-11\n",
      "3   2009-12-21\n",
      "4   2009-12-24\n",
      "Name: bite_date, dtype: datetime64[ns]\n"
     ]
    }
   ],
   "source": [
    "# We only need dates and NaTs for creating booleans\n",
    "bite_corr_df = bite_df['bite_date'].copy()\n",
    "print(bite_corr_df.head())"
   ]
  },
  {
   "cell_type": "markdown",
   "id": "499905fb",
   "metadata": {},
   "source": [
    "This merge will create a dataframe that has ALL dates from our selected range, not just the dates where bites occured."
   ]
  },
  {
   "cell_type": "code",
   "execution_count": 98,
   "id": "14be0c6e",
   "metadata": {},
   "outputs": [
    {
     "name": "stdout",
     "output_type": "stream",
     "text": [
      "        date           phase  bite_date\n",
      "0 2009-10-29  waxing gibbous 2009-10-29\n",
      "1 2009-10-30  waxing gibbous        NaT\n",
      "2 2009-10-31  waxing gibbous        NaT\n",
      "3 2009-11-01            full        NaT\n",
      "4 2009-11-02            full        NaT\n"
     ]
    }
   ],
   "source": [
    "# Merge on date to keep dates not included in bite_date\n",
    "corr_df = pd.merge(moon_corr_df, bite_corr_df, how='left', left_on='date', right_on='bite_date')\n",
    "print(corr_df.head())"
   ]
  },
  {
   "cell_type": "markdown",
   "id": "9de247cb",
   "metadata": {},
   "source": [
    "We'll create a new column that serves as a boolean for whether or not a bites occured on a given date."
   ]
  },
  {
   "cell_type": "code",
   "execution_count": 99,
   "id": "a6f90423",
   "metadata": {},
   "outputs": [
    {
     "name": "stdout",
     "output_type": "stream",
     "text": [
      "           date           phase  bite_date  incident\n",
      "0    2009-10-29  waxing gibbous 2009-10-29         1\n",
      "1    2009-10-30  waxing gibbous        NaT         0\n",
      "2    2009-10-31  waxing gibbous        NaT         0\n",
      "3    2009-11-01            full        NaT         0\n",
      "4    2009-11-02            full        NaT         0\n",
      "...         ...             ...        ...       ...\n",
      "8850 2017-09-06            full 2017-09-06         1\n",
      "8851 2017-09-07            full 2017-09-07         1\n",
      "8852 2017-09-07            full 2017-09-07         1\n",
      "8853 2017-09-07            full 2017-09-07         1\n",
      "8854 2017-09-07            full 2017-09-07         1\n",
      "\n",
      "[8855 rows x 4 columns]\n"
     ]
    }
   ],
   "source": [
    "# Create a new column 'new_col' with 1's and 0's\n",
    "corr_df['incident'] = corr_df['bite_date'].apply(lambda x: 1 if not pd.isna(x) else 0)\n",
    "\n",
    "print(corr_df)"
   ]
  },
  {
   "cell_type": "markdown",
   "id": "2db6acde",
   "metadata": {},
   "source": [
    "First we'll create a dictionary which maps each moon phase to a unique number. After which a new column is created to store the corresponding value."
   ]
  },
  {
   "cell_type": "code",
   "execution_count": 100,
   "id": "95787979",
   "metadata": {},
   "outputs": [],
   "source": [
    "# Create a dictionary mapping each phase string to a numerical value\n",
    "phase_dict = {'new': 1, 'waxing crescent': 2, 'first quarter': 3, \n",
    "              'waxing gibbous': 4, 'full': 5, 'waning gibbous': 6, \n",
    "              'last quarter': 7, 'waning crescent': 8}\n",
    "\n",
    "\n",
    "# Map the 'phase' column to the numerical values using the dictionary\n",
    "corr_df['phase_map'] = corr_df['phase'].map(phase_dict)"
   ]
  },
  {
   "cell_type": "markdown",
   "id": "63640494",
   "metadata": {},
   "source": [
    "Next we will create yet another, more specific dataframe that has only the columns which will not posess null values. Pandas needs numbers for calculating correlation, and any other data types will not allow the operation to function."
   ]
  },
  {
   "cell_type": "code",
   "execution_count": 101,
   "id": "e48d2c10",
   "metadata": {},
   "outputs": [
    {
     "name": "stdout",
     "output_type": "stream",
     "text": [
      "Correlation coefficient: -0.005128849435105016\n"
     ]
    }
   ],
   "source": [
    "# Select only the columns used for the correlation calculation\n",
    "corr_cols = ['incident', 'phase_map']\n",
    "\n",
    "# Lets go ahead and make this its own special purpose dataframe\n",
    "special_corr_df = corr_df[corr_cols]\n",
    "\n",
    "# Calculate the correlation matrix between the two columns\n",
    "correlation = special_corr_df.corr()\n",
    "\n",
    "# Print the correlation coefficient between the two columns\n",
    "print('Correlation coefficient:', correlation['incident']['phase_map'])\n"
   ]
  },
  {
   "attachments": {},
   "cell_type": "markdown",
   "id": "71a3f47c",
   "metadata": {},
   "source": [
    "A correlation coefficient of -0.005129 is **very close** to zero. This suggests there is little to no linear relationship between the moon phase and the incidence of animal bites reported in Louisville. The moon phase and the incidence of bites are essentially independent of each other. This coefficient suggests that the moon phase is **not** a strong predictor of animal bites, and that other factors may be more important in determining when bites will occur.\n",
    "\n",
    "In summation, we conclude with a brief heat map visualization."
   ]
  },
  {
   "cell_type": "code",
   "execution_count": 102,
   "id": "586ca2fb",
   "metadata": {},
   "outputs": [
    {
     "data": {
      "text/html": [
       "<style type=\"text/css\">\n",
       "#T_8cf3b_row0_col0, #T_8cf3b_row1_col1 {\n",
       "  background-color: #67000d;\n",
       "  color: #f1f1f1;\n",
       "}\n",
       "#T_8cf3b_row0_col1, #T_8cf3b_row1_col0 {\n",
       "  background-color: #fff5f0;\n",
       "  color: #000000;\n",
       "}\n",
       "</style>\n",
       "<table id=\"T_8cf3b\">\n",
       "  <thead>\n",
       "    <tr>\n",
       "      <th class=\"blank level0\" >&nbsp;</th>\n",
       "      <th id=\"T_8cf3b_level0_col0\" class=\"col_heading level0 col0\" >incident</th>\n",
       "      <th id=\"T_8cf3b_level0_col1\" class=\"col_heading level0 col1\" >phase_map</th>\n",
       "    </tr>\n",
       "  </thead>\n",
       "  <tbody>\n",
       "    <tr>\n",
       "      <th id=\"T_8cf3b_level0_row0\" class=\"row_heading level0 row0\" >incident</th>\n",
       "      <td id=\"T_8cf3b_row0_col0\" class=\"data row0 col0\" >1.000000</td>\n",
       "      <td id=\"T_8cf3b_row0_col1\" class=\"data row0 col1\" >-0.005129</td>\n",
       "    </tr>\n",
       "    <tr>\n",
       "      <th id=\"T_8cf3b_level0_row1\" class=\"row_heading level0 row1\" >phase_map</th>\n",
       "      <td id=\"T_8cf3b_row1_col0\" class=\"data row1 col0\" >-0.005129</td>\n",
       "      <td id=\"T_8cf3b_row1_col1\" class=\"data row1 col1\" >1.000000</td>\n",
       "    </tr>\n",
       "  </tbody>\n",
       "</table>\n"
      ],
      "text/plain": [
       "<pandas.io.formats.style.Styler at 0x154d8191120>"
      ]
     },
     "execution_count": 102,
     "metadata": {},
     "output_type": "execute_result"
    }
   ],
   "source": [
    "# Correlation visualization\n",
    "correlation.style.background_gradient(cmap=\"Reds\")\n"
   ]
  },
  {
   "cell_type": "code",
   "execution_count": 103,
   "id": "35c74b3a",
   "metadata": {},
   "outputs": [],
   "source": [
    "# Be sure to close the door behind you\n",
    "conn.close()"
   ]
  },
  {
   "cell_type": "code",
   "execution_count": null,
   "id": "a6d8e87b",
   "metadata": {},
   "outputs": [],
   "source": []
  }
 ],
 "metadata": {
  "kernelspec": {
   "display_name": "Python 3 (ipykernel)",
   "language": "python",
   "name": "python3"
  },
  "language_info": {
   "codemirror_mode": {
    "name": "ipython",
    "version": 3
   },
   "file_extension": ".py",
   "mimetype": "text/x-python",
   "name": "python",
   "nbconvert_exporter": "python",
   "pygments_lexer": "ipython3",
   "version": "3.10.8"
  }
 },
 "nbformat": 4,
 "nbformat_minor": 5
}
