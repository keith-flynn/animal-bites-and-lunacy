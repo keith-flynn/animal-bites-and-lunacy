{
 "cells": [
  {
   "cell_type": "markdown",
   "id": "4326593d",
   "metadata": {},
   "source": [
    "## Creating a SQLite Database from our CSV Files"
   ]
  },
  {
   "cell_type": "markdown",
   "id": "19046eb6",
   "metadata": {},
   "source": [
    "Using pandas and sqlite to create our .db file"
   ]
  },
  {
   "cell_type": "code",
   "execution_count": 1,
   "id": "72579aec",
   "metadata": {},
   "outputs": [],
   "source": [
    "import pandas as pd\n",
    "import sqlite3"
   ]
  },
  {
   "cell_type": "markdown",
   "id": "82b6f5c9",
   "metadata": {},
   "source": [
    "We use pandas to load the csv into a dataframe and display the first few rows"
   ]
  },
  {
   "cell_type": "code",
   "execution_count": 2,
   "id": "9b618c4f",
   "metadata": {},
   "outputs": [
    {
     "name": "stdout",
     "output_type": "stream",
     "text": [
      "             bite_date SpeciesIDDesc BreedIDDesc GenderIDDesc       color  \\\n",
      "0  1985-05-05 00:00:00           DOG         NaN       FEMALE  LIG. BROWN   \n",
      "1  1986-02-12 00:00:00           DOG         NaN      UNKNOWN   BRO & BLA   \n",
      "2  1987-05-07 00:00:00           DOG         NaN      UNKNOWN         NaN   \n",
      "3  1988-10-02 00:00:00           DOG         NaN         MALE   BLA & BRO   \n",
      "4  1989-08-29 00:00:00           DOG         NaN       FEMALE     BLK-WHT   \n",
      "\n",
      "   vaccination_yrs     vaccination_date victim_zip AdvIssuedYNDesc  \\\n",
      "0              1.0  1985-06-20 00:00:00      40229              NO   \n",
      "1              NaN                  NaN      40218              NO   \n",
      "2              NaN                  NaN      40219              NO   \n",
      "3              NaN                  NaN        NaN              NO   \n",
      "4              NaN                  NaN        NaN              NO   \n",
      "\n",
      "  WhereBittenIDDesc      quarantine_date DispositionIDDesc head_sent_date  \\\n",
      "0              BODY  1985-05-05 00:00:00           UNKNOWN            NaN   \n",
      "1              BODY  1986-02-12 00:00:00           UNKNOWN            NaN   \n",
      "2              BODY  1990-05-07 00:00:00           UNKNOWN            NaN   \n",
      "3              BODY  1990-10-02 00:00:00           UNKNOWN            NaN   \n",
      "4              BODY                  NaN           UNKNOWN            NaN   \n",
      "\n",
      "  release_date ResultsIDDesc  \n",
      "0          NaN       UNKNOWN  \n",
      "1          NaN       UNKNOWN  \n",
      "2          NaN       UNKNOWN  \n",
      "3          NaN       UNKNOWN  \n",
      "4          NaN       UNKNOWN  \n"
     ]
    }
   ],
   "source": [
    "bite_df = pd.read_csv('assets/Health_AnimalBites.csv')\n",
    "print(bite_df.head())"
   ]
  },
  {
   "cell_type": "markdown",
   "id": "c97c565e",
   "metadata": {},
   "source": [
    "Now sqlite creates a database and our first table named Bites"
   ]
  },
  {
   "cell_type": "code",
   "execution_count": 3,
   "id": "8fab530f",
   "metadata": {},
   "outputs": [
    {
     "ename": "ValueError",
     "evalue": "Table 'Bites' already exists.",
     "output_type": "error",
     "traceback": [
      "\u001b[1;31m---------------------------------------------------------------------------\u001b[0m",
      "\u001b[1;31mValueError\u001b[0m                                Traceback (most recent call last)",
      "Cell \u001b[1;32mIn[3], line 2\u001b[0m\n\u001b[0;32m      1\u001b[0m \u001b[39mwith\u001b[39;00m sqlite3\u001b[39m.\u001b[39mconnect(\u001b[39m'\u001b[39m\u001b[39mlunacy.db\u001b[39m\u001b[39m'\u001b[39m) \u001b[39mas\u001b[39;00m conn:\n\u001b[1;32m----> 2\u001b[0m     bite_df\u001b[39m.\u001b[39;49mto_sql(\u001b[39m'\u001b[39;49m\u001b[39mBites\u001b[39;49m\u001b[39m'\u001b[39;49m, conn)\n",
      "File \u001b[1;32mc:\\Users\\frisc\\AppData\\Local\\Programs\\Python\\Python310\\lib\\site-packages\\pandas\\core\\generic.py:2986\u001b[0m, in \u001b[0;36mNDFrame.to_sql\u001b[1;34m(self, name, con, schema, if_exists, index, index_label, chunksize, dtype, method)\u001b[0m\n\u001b[0;32m   2829\u001b[0m \u001b[39m\"\"\"\u001b[39;00m\n\u001b[0;32m   2830\u001b[0m \u001b[39mWrite records stored in a DataFrame to a SQL database.\u001b[39;00m\n\u001b[0;32m   2831\u001b[0m \n\u001b[1;32m   (...)\u001b[0m\n\u001b[0;32m   2982\u001b[0m \u001b[39m[(1,), (None,), (2,)]\u001b[39;00m\n\u001b[0;32m   2983\u001b[0m \u001b[39m\"\"\"\u001b[39;00m  \u001b[39m# noqa:E501\u001b[39;00m\n\u001b[0;32m   2984\u001b[0m \u001b[39mfrom\u001b[39;00m \u001b[39mpandas\u001b[39;00m\u001b[39m.\u001b[39;00m\u001b[39mio\u001b[39;00m \u001b[39mimport\u001b[39;00m sql\n\u001b[1;32m-> 2986\u001b[0m \u001b[39mreturn\u001b[39;00m sql\u001b[39m.\u001b[39;49mto_sql(\n\u001b[0;32m   2987\u001b[0m     \u001b[39mself\u001b[39;49m,\n\u001b[0;32m   2988\u001b[0m     name,\n\u001b[0;32m   2989\u001b[0m     con,\n\u001b[0;32m   2990\u001b[0m     schema\u001b[39m=\u001b[39;49mschema,\n\u001b[0;32m   2991\u001b[0m     if_exists\u001b[39m=\u001b[39;49mif_exists,\n\u001b[0;32m   2992\u001b[0m     index\u001b[39m=\u001b[39;49mindex,\n\u001b[0;32m   2993\u001b[0m     index_label\u001b[39m=\u001b[39;49mindex_label,\n\u001b[0;32m   2994\u001b[0m     chunksize\u001b[39m=\u001b[39;49mchunksize,\n\u001b[0;32m   2995\u001b[0m     dtype\u001b[39m=\u001b[39;49mdtype,\n\u001b[0;32m   2996\u001b[0m     method\u001b[39m=\u001b[39;49mmethod,\n\u001b[0;32m   2997\u001b[0m )\n",
      "File \u001b[1;32mc:\\Users\\frisc\\AppData\\Local\\Programs\\Python\\Python310\\lib\\site-packages\\pandas\\io\\sql.py:696\u001b[0m, in \u001b[0;36mto_sql\u001b[1;34m(frame, name, con, schema, if_exists, index, index_label, chunksize, dtype, method, engine, **engine_kwargs)\u001b[0m\n\u001b[0;32m    691\u001b[0m \u001b[39melif\u001b[39;00m \u001b[39mnot\u001b[39;00m \u001b[39misinstance\u001b[39m(frame, DataFrame):\n\u001b[0;32m    692\u001b[0m     \u001b[39mraise\u001b[39;00m \u001b[39mNotImplementedError\u001b[39;00m(\n\u001b[0;32m    693\u001b[0m         \u001b[39m\"\u001b[39m\u001b[39m'\u001b[39m\u001b[39mframe\u001b[39m\u001b[39m'\u001b[39m\u001b[39m argument should be either a Series or a DataFrame\u001b[39m\u001b[39m\"\u001b[39m\n\u001b[0;32m    694\u001b[0m     )\n\u001b[1;32m--> 696\u001b[0m \u001b[39mreturn\u001b[39;00m pandas_sql\u001b[39m.\u001b[39mto_sql(\n\u001b[0;32m    697\u001b[0m     frame,\n\u001b[0;32m    698\u001b[0m     name,\n\u001b[0;32m    699\u001b[0m     if_exists\u001b[39m=\u001b[39mif_exists,\n\u001b[0;32m    700\u001b[0m     index\u001b[39m=\u001b[39mindex,\n\u001b[0;32m    701\u001b[0m     index_label\u001b[39m=\u001b[39mindex_label,\n\u001b[0;32m    702\u001b[0m     schema\u001b[39m=\u001b[39mschema,\n\u001b[0;32m    703\u001b[0m     chunksize\u001b[39m=\u001b[39mchunksize,\n\u001b[0;32m    704\u001b[0m     dtype\u001b[39m=\u001b[39mdtype,\n\u001b[0;32m    705\u001b[0m     method\u001b[39m=\u001b[39mmethod,\n\u001b[0;32m    706\u001b[0m     engine\u001b[39m=\u001b[39mengine,\n\u001b[0;32m    707\u001b[0m     \u001b[39m*\u001b[39m\u001b[39m*\u001b[39mengine_kwargs,\n\u001b[0;32m    708\u001b[0m )\n",
      "File \u001b[1;32mc:\\Users\\frisc\\AppData\\Local\\Programs\\Python\\Python310\\lib\\site-packages\\pandas\\io\\sql.py:2188\u001b[0m, in \u001b[0;36mSQLiteDatabase.to_sql\u001b[1;34m(self, frame, name, if_exists, index, index_label, schema, chunksize, dtype, method, **kwargs)\u001b[0m\n\u001b[0;32m   2177\u001b[0m             \u001b[39mraise\u001b[39;00m \u001b[39mValueError\u001b[39;00m(\u001b[39mf\u001b[39m\u001b[39m\"\u001b[39m\u001b[39m{\u001b[39;00mcol\u001b[39m}\u001b[39;00m\u001b[39m (\u001b[39m\u001b[39m{\u001b[39;00mmy_type\u001b[39m}\u001b[39;00m\u001b[39m) not a string\u001b[39m\u001b[39m\"\u001b[39m)\n\u001b[0;32m   2179\u001b[0m table \u001b[39m=\u001b[39m SQLiteTable(\n\u001b[0;32m   2180\u001b[0m     name,\n\u001b[0;32m   2181\u001b[0m     \u001b[39mself\u001b[39m,\n\u001b[1;32m   (...)\u001b[0m\n\u001b[0;32m   2186\u001b[0m     dtype\u001b[39m=\u001b[39mdtype,\n\u001b[0;32m   2187\u001b[0m )\n\u001b[1;32m-> 2188\u001b[0m table\u001b[39m.\u001b[39;49mcreate()\n\u001b[0;32m   2189\u001b[0m \u001b[39mreturn\u001b[39;00m table\u001b[39m.\u001b[39minsert(chunksize, method)\n",
      "File \u001b[1;32mc:\\Users\\frisc\\AppData\\Local\\Programs\\Python\\Python310\\lib\\site-packages\\pandas\\io\\sql.py:830\u001b[0m, in \u001b[0;36mSQLTable.create\u001b[1;34m(self)\u001b[0m\n\u001b[0;32m    828\u001b[0m \u001b[39mif\u001b[39;00m \u001b[39mself\u001b[39m\u001b[39m.\u001b[39mexists():\n\u001b[0;32m    829\u001b[0m     \u001b[39mif\u001b[39;00m \u001b[39mself\u001b[39m\u001b[39m.\u001b[39mif_exists \u001b[39m==\u001b[39m \u001b[39m\"\u001b[39m\u001b[39mfail\u001b[39m\u001b[39m\"\u001b[39m:\n\u001b[1;32m--> 830\u001b[0m         \u001b[39mraise\u001b[39;00m \u001b[39mValueError\u001b[39;00m(\u001b[39mf\u001b[39m\u001b[39m\"\u001b[39m\u001b[39mTable \u001b[39m\u001b[39m'\u001b[39m\u001b[39m{\u001b[39;00m\u001b[39mself\u001b[39m\u001b[39m.\u001b[39mname\u001b[39m}\u001b[39;00m\u001b[39m'\u001b[39m\u001b[39m already exists.\u001b[39m\u001b[39m\"\u001b[39m)\n\u001b[0;32m    831\u001b[0m     \u001b[39melif\u001b[39;00m \u001b[39mself\u001b[39m\u001b[39m.\u001b[39mif_exists \u001b[39m==\u001b[39m \u001b[39m\"\u001b[39m\u001b[39mreplace\u001b[39m\u001b[39m\"\u001b[39m:\n\u001b[0;32m    832\u001b[0m         \u001b[39mself\u001b[39m\u001b[39m.\u001b[39mpd_sql\u001b[39m.\u001b[39mdrop_table(\u001b[39mself\u001b[39m\u001b[39m.\u001b[39mname, \u001b[39mself\u001b[39m\u001b[39m.\u001b[39mschema)\n",
      "\u001b[1;31mValueError\u001b[0m: Table 'Bites' already exists."
     ]
    }
   ],
   "source": [
    "with sqlite3.connect('lunacy.db') as conn:\n",
    "    bite_df.to_sql('Bites', conn)"
   ]
  },
  {
   "cell_type": "markdown",
   "id": "61a83ebb",
   "metadata": {},
   "source": [
    "Now we do the same for our csv with moon phase data"
   ]
  },
  {
   "cell_type": "code",
   "execution_count": 4,
   "id": "b9c8528e",
   "metadata": {},
   "outputs": [
    {
     "name": "stdout",
     "output_type": "stream",
     "text": [
      "   Unnamed: 0                    date  illum_pct           phase\n",
      "0           0  1800-01-01 12:00:00.00      36.00   first quarter\n",
      "1           1  1800-01-02 12:00:00.00      45.58   first quarter\n",
      "2           2  1800-01-03 12:00:00.00      55.14   first quarter\n",
      "3           3  1800-01-04 12:00:00.00      64.41   first quarter\n",
      "4           4  1800-01-05 12:00:00.00      73.12  waxing gibbous\n"
     ]
    }
   ],
   "source": [
    "moon_df = pd.read_csv('assets/moon_illumination_1800-2100.csv')\n",
    "print(moon_df.head())"
   ]
  },
  {
   "cell_type": "markdown",
   "id": "94aa4bce",
   "metadata": {},
   "source": [
    "This will become the table called Moon"
   ]
  },
  {
   "cell_type": "code",
   "execution_count": 5,
   "id": "fc6ee0ff",
   "metadata": {},
   "outputs": [
    {
     "ename": "ValueError",
     "evalue": "Table 'Moon' already exists.",
     "output_type": "error",
     "traceback": [
      "\u001b[1;31m---------------------------------------------------------------------------\u001b[0m",
      "\u001b[1;31mValueError\u001b[0m                                Traceback (most recent call last)",
      "Cell \u001b[1;32mIn[5], line 2\u001b[0m\n\u001b[0;32m      1\u001b[0m \u001b[39mwith\u001b[39;00m sqlite3\u001b[39m.\u001b[39mconnect(\u001b[39m'\u001b[39m\u001b[39mlunacy.db\u001b[39m\u001b[39m'\u001b[39m) \u001b[39mas\u001b[39;00m conn:\n\u001b[1;32m----> 2\u001b[0m     moon_df\u001b[39m.\u001b[39;49mto_sql(\u001b[39m'\u001b[39;49m\u001b[39mMoon\u001b[39;49m\u001b[39m'\u001b[39;49m, conn)\n",
      "File \u001b[1;32mc:\\Users\\frisc\\AppData\\Local\\Programs\\Python\\Python310\\lib\\site-packages\\pandas\\core\\generic.py:2986\u001b[0m, in \u001b[0;36mNDFrame.to_sql\u001b[1;34m(self, name, con, schema, if_exists, index, index_label, chunksize, dtype, method)\u001b[0m\n\u001b[0;32m   2829\u001b[0m \u001b[39m\"\"\"\u001b[39;00m\n\u001b[0;32m   2830\u001b[0m \u001b[39mWrite records stored in a DataFrame to a SQL database.\u001b[39;00m\n\u001b[0;32m   2831\u001b[0m \n\u001b[1;32m   (...)\u001b[0m\n\u001b[0;32m   2982\u001b[0m \u001b[39m[(1,), (None,), (2,)]\u001b[39;00m\n\u001b[0;32m   2983\u001b[0m \u001b[39m\"\"\"\u001b[39;00m  \u001b[39m# noqa:E501\u001b[39;00m\n\u001b[0;32m   2984\u001b[0m \u001b[39mfrom\u001b[39;00m \u001b[39mpandas\u001b[39;00m\u001b[39m.\u001b[39;00m\u001b[39mio\u001b[39;00m \u001b[39mimport\u001b[39;00m sql\n\u001b[1;32m-> 2986\u001b[0m \u001b[39mreturn\u001b[39;00m sql\u001b[39m.\u001b[39;49mto_sql(\n\u001b[0;32m   2987\u001b[0m     \u001b[39mself\u001b[39;49m,\n\u001b[0;32m   2988\u001b[0m     name,\n\u001b[0;32m   2989\u001b[0m     con,\n\u001b[0;32m   2990\u001b[0m     schema\u001b[39m=\u001b[39;49mschema,\n\u001b[0;32m   2991\u001b[0m     if_exists\u001b[39m=\u001b[39;49mif_exists,\n\u001b[0;32m   2992\u001b[0m     index\u001b[39m=\u001b[39;49mindex,\n\u001b[0;32m   2993\u001b[0m     index_label\u001b[39m=\u001b[39;49mindex_label,\n\u001b[0;32m   2994\u001b[0m     chunksize\u001b[39m=\u001b[39;49mchunksize,\n\u001b[0;32m   2995\u001b[0m     dtype\u001b[39m=\u001b[39;49mdtype,\n\u001b[0;32m   2996\u001b[0m     method\u001b[39m=\u001b[39;49mmethod,\n\u001b[0;32m   2997\u001b[0m )\n",
      "File \u001b[1;32mc:\\Users\\frisc\\AppData\\Local\\Programs\\Python\\Python310\\lib\\site-packages\\pandas\\io\\sql.py:696\u001b[0m, in \u001b[0;36mto_sql\u001b[1;34m(frame, name, con, schema, if_exists, index, index_label, chunksize, dtype, method, engine, **engine_kwargs)\u001b[0m\n\u001b[0;32m    691\u001b[0m \u001b[39melif\u001b[39;00m \u001b[39mnot\u001b[39;00m \u001b[39misinstance\u001b[39m(frame, DataFrame):\n\u001b[0;32m    692\u001b[0m     \u001b[39mraise\u001b[39;00m \u001b[39mNotImplementedError\u001b[39;00m(\n\u001b[0;32m    693\u001b[0m         \u001b[39m\"\u001b[39m\u001b[39m'\u001b[39m\u001b[39mframe\u001b[39m\u001b[39m'\u001b[39m\u001b[39m argument should be either a Series or a DataFrame\u001b[39m\u001b[39m\"\u001b[39m\n\u001b[0;32m    694\u001b[0m     )\n\u001b[1;32m--> 696\u001b[0m \u001b[39mreturn\u001b[39;00m pandas_sql\u001b[39m.\u001b[39mto_sql(\n\u001b[0;32m    697\u001b[0m     frame,\n\u001b[0;32m    698\u001b[0m     name,\n\u001b[0;32m    699\u001b[0m     if_exists\u001b[39m=\u001b[39mif_exists,\n\u001b[0;32m    700\u001b[0m     index\u001b[39m=\u001b[39mindex,\n\u001b[0;32m    701\u001b[0m     index_label\u001b[39m=\u001b[39mindex_label,\n\u001b[0;32m    702\u001b[0m     schema\u001b[39m=\u001b[39mschema,\n\u001b[0;32m    703\u001b[0m     chunksize\u001b[39m=\u001b[39mchunksize,\n\u001b[0;32m    704\u001b[0m     dtype\u001b[39m=\u001b[39mdtype,\n\u001b[0;32m    705\u001b[0m     method\u001b[39m=\u001b[39mmethod,\n\u001b[0;32m    706\u001b[0m     engine\u001b[39m=\u001b[39mengine,\n\u001b[0;32m    707\u001b[0m     \u001b[39m*\u001b[39m\u001b[39m*\u001b[39mengine_kwargs,\n\u001b[0;32m    708\u001b[0m )\n",
      "File \u001b[1;32mc:\\Users\\frisc\\AppData\\Local\\Programs\\Python\\Python310\\lib\\site-packages\\pandas\\io\\sql.py:2188\u001b[0m, in \u001b[0;36mSQLiteDatabase.to_sql\u001b[1;34m(self, frame, name, if_exists, index, index_label, schema, chunksize, dtype, method, **kwargs)\u001b[0m\n\u001b[0;32m   2177\u001b[0m             \u001b[39mraise\u001b[39;00m \u001b[39mValueError\u001b[39;00m(\u001b[39mf\u001b[39m\u001b[39m\"\u001b[39m\u001b[39m{\u001b[39;00mcol\u001b[39m}\u001b[39;00m\u001b[39m (\u001b[39m\u001b[39m{\u001b[39;00mmy_type\u001b[39m}\u001b[39;00m\u001b[39m) not a string\u001b[39m\u001b[39m\"\u001b[39m)\n\u001b[0;32m   2179\u001b[0m table \u001b[39m=\u001b[39m SQLiteTable(\n\u001b[0;32m   2180\u001b[0m     name,\n\u001b[0;32m   2181\u001b[0m     \u001b[39mself\u001b[39m,\n\u001b[1;32m   (...)\u001b[0m\n\u001b[0;32m   2186\u001b[0m     dtype\u001b[39m=\u001b[39mdtype,\n\u001b[0;32m   2187\u001b[0m )\n\u001b[1;32m-> 2188\u001b[0m table\u001b[39m.\u001b[39;49mcreate()\n\u001b[0;32m   2189\u001b[0m \u001b[39mreturn\u001b[39;00m table\u001b[39m.\u001b[39minsert(chunksize, method)\n",
      "File \u001b[1;32mc:\\Users\\frisc\\AppData\\Local\\Programs\\Python\\Python310\\lib\\site-packages\\pandas\\io\\sql.py:830\u001b[0m, in \u001b[0;36mSQLTable.create\u001b[1;34m(self)\u001b[0m\n\u001b[0;32m    828\u001b[0m \u001b[39mif\u001b[39;00m \u001b[39mself\u001b[39m\u001b[39m.\u001b[39mexists():\n\u001b[0;32m    829\u001b[0m     \u001b[39mif\u001b[39;00m \u001b[39mself\u001b[39m\u001b[39m.\u001b[39mif_exists \u001b[39m==\u001b[39m \u001b[39m\"\u001b[39m\u001b[39mfail\u001b[39m\u001b[39m\"\u001b[39m:\n\u001b[1;32m--> 830\u001b[0m         \u001b[39mraise\u001b[39;00m \u001b[39mValueError\u001b[39;00m(\u001b[39mf\u001b[39m\u001b[39m\"\u001b[39m\u001b[39mTable \u001b[39m\u001b[39m'\u001b[39m\u001b[39m{\u001b[39;00m\u001b[39mself\u001b[39m\u001b[39m.\u001b[39mname\u001b[39m}\u001b[39;00m\u001b[39m'\u001b[39m\u001b[39m already exists.\u001b[39m\u001b[39m\"\u001b[39m)\n\u001b[0;32m    831\u001b[0m     \u001b[39melif\u001b[39;00m \u001b[39mself\u001b[39m\u001b[39m.\u001b[39mif_exists \u001b[39m==\u001b[39m \u001b[39m\"\u001b[39m\u001b[39mreplace\u001b[39m\u001b[39m\"\u001b[39m:\n\u001b[0;32m    832\u001b[0m         \u001b[39mself\u001b[39m\u001b[39m.\u001b[39mpd_sql\u001b[39m.\u001b[39mdrop_table(\u001b[39mself\u001b[39m\u001b[39m.\u001b[39mname, \u001b[39mself\u001b[39m\u001b[39m.\u001b[39mschema)\n",
      "\u001b[1;31mValueError\u001b[0m: Table 'Moon' already exists."
     ]
    }
   ],
   "source": [
    "with sqlite3.connect('lunacy.db') as conn:\n",
    "    moon_df.to_sql('Moon', conn)"
   ]
  },
  {
   "attachments": {},
   "cell_type": "markdown",
   "id": "69dfeeda",
   "metadata": {},
   "source": [
    "## Query our SQL data"
   ]
  },
  {
   "attachments": {},
   "cell_type": "markdown",
   "id": "fa18ab0d",
   "metadata": {},
   "source": [
    "First, our animal bite data."
   ]
  },
  {
   "cell_type": "code",
   "execution_count": 6,
   "id": "1eae12e9",
   "metadata": {},
   "outputs": [
    {
     "name": "stdout",
     "output_type": "stream",
     "text": [
      "             bite_date SpeciesIDDesc BreedIDDesc GenderIDDesc    color  \\\n",
      "0  2009-10-29 00:00:00           CAT        None       FEMALE     GRAY   \n",
      "1  2009-12-02 00:00:00           DOG        None         MALE  TAN-BRN   \n",
      "2  2009-12-11 00:00:00           DOG        None         MALE  BLK-BRN   \n",
      "3  2009-12-21 00:00:00           DOG        None      UNKNOWN    BLACK   \n",
      "4  2009-12-24 00:00:00           DOG        None         MALE  BRN-WHT   \n",
      "\n",
      "  victim_zip WhereBittenIDDesc ResultsIDDesc  \n",
      "0      40206              BODY       UNKNOWN  \n",
      "1      40291              BODY       UNKNOWN  \n",
      "2      40272              BODY       UNKNOWN  \n",
      "3      40218              HEAD       UNKNOWN  \n",
      "4      40165              HEAD       UNKNOWN  \n"
     ]
    }
   ],
   "source": [
    "con = sqlite3.connect(\"lunacy.db\")\n",
    "\n",
    "bite_df = pd.read_sql(\"\"\"SELECT \n",
    "                            bite_date, \n",
    "                            SpeciesIDDesc, \n",
    "                            BreedIDDesc, \n",
    "                            GenderIDDesc, \n",
    "                            color, \n",
    "                            victim_zip, \n",
    "                            WhereBittenIDDesc, \n",
    "                            ResultsIDDesc \n",
    "                        FROM \n",
    "                            bites b \n",
    "                        WHERE \n",
    "                            b.bite_date \n",
    "                        BETWEEN \n",
    "                            '2009-10-29' and '2017-09-08' \n",
    "                        ORDER BY \n",
    "                            bite_date;\"\"\", con)\n",
    "\n",
    "print(bite_df.head())"
   ]
  },
  {
   "attachments": {},
   "cell_type": "markdown",
   "id": "a188840d",
   "metadata": {},
   "source": [
    "Now, our lunar data."
   ]
  },
  {
   "cell_type": "code",
   "execution_count": 7,
   "id": "4e9b5bd8",
   "metadata": {},
   "outputs": [
    {
     "name": "stdout",
     "output_type": "stream",
     "text": [
      "                     date  illum_pct           phase\n",
      "0  2009-10-29 12:00:00.00      80.90  waxing gibbous\n",
      "1  2009-10-30 12:00:00.00      88.09  waxing gibbous\n",
      "2  2009-10-31 12:00:00.00      93.90  waxing gibbous\n",
      "3  2009-11-01 12:00:00.00      97.94            full\n",
      "4  2009-11-02 12:00:00.00      99.88            full\n"
     ]
    }
   ],
   "source": [
    "moon_df = pd.read_sql(\"\"\"SELECT \n",
    "                            date, \n",
    "                            illum_pct, \n",
    "                            phase \n",
    "                        FROM \n",
    "                            moon m \n",
    "                        WHERE \n",
    "                            m.date \n",
    "                        BETWEEN \n",
    "                            '2009-10-29' and '2017-09-08' \n",
    "                        ORDER BY \n",
    "                            date;\"\"\", con)\n",
    "\n",
    "print(moon_df.head())"
   ]
  },
  {
   "attachments": {},
   "cell_type": "markdown",
   "id": "98b51ebd",
   "metadata": {},
   "source": [
    "We first see what we're working with."
   ]
  },
  {
   "cell_type": "code",
   "execution_count": 8,
   "id": "73ffc286",
   "metadata": {},
   "outputs": [
    {
     "name": "stdout",
     "output_type": "stream",
     "text": [
      "<class 'pandas.core.frame.DataFrame'>\n",
      "RangeIndex: 8631 entries, 0 to 8630\n",
      "Data columns (total 8 columns):\n",
      " #   Column             Non-Null Count  Dtype \n",
      "---  ------             --------------  ----- \n",
      " 0   bite_date          8631 non-null   object\n",
      " 1   SpeciesIDDesc      8530 non-null   object\n",
      " 2   BreedIDDesc        3696 non-null   object\n",
      " 3   GenderIDDesc       6355 non-null   object\n",
      " 4   color              6307 non-null   object\n",
      " 5   victim_zip         6879 non-null   object\n",
      " 6   WhereBittenIDDesc  8303 non-null   object\n",
      " 7   ResultsIDDesc      1328 non-null   object\n",
      "dtypes: object(8)\n",
      "memory usage: 539.6+ KB\n",
      "None\n",
      "<class 'pandas.core.frame.DataFrame'>\n",
      "RangeIndex: 2871 entries, 0 to 2870\n",
      "Data columns (total 3 columns):\n",
      " #   Column     Non-Null Count  Dtype  \n",
      "---  ------     --------------  -----  \n",
      " 0   date       2871 non-null   object \n",
      " 1   illum_pct  2871 non-null   float64\n",
      " 2   phase      2871 non-null   object \n",
      "dtypes: float64(1), object(2)\n",
      "memory usage: 67.4+ KB\n",
      "None\n"
     ]
    }
   ],
   "source": [
    "print(bite_df.info())\n",
    "print(moon_df.info())"
   ]
  },
  {
   "attachments": {},
   "cell_type": "markdown",
   "id": "b10eceaa",
   "metadata": {},
   "source": [
    "First, we'll convert our two date columns to datetime64, then drop the times as one is empty and the other is noon."
   ]
  },
  {
   "cell_type": "code",
   "execution_count": 9,
   "id": "cbf17c1f",
   "metadata": {},
   "outputs": [
    {
     "name": "stdout",
     "output_type": "stream",
     "text": [
      "<class 'pandas.core.frame.DataFrame'>\n",
      "RangeIndex: 8631 entries, 0 to 8630\n",
      "Data columns (total 8 columns):\n",
      " #   Column             Non-Null Count  Dtype         \n",
      "---  ------             --------------  -----         \n",
      " 0   bite_date          8631 non-null   datetime64[ns]\n",
      " 1   SpeciesIDDesc      8530 non-null   object        \n",
      " 2   BreedIDDesc        3696 non-null   object        \n",
      " 3   GenderIDDesc       6355 non-null   object        \n",
      " 4   color              6307 non-null   object        \n",
      " 5   victim_zip         6879 non-null   object        \n",
      " 6   WhereBittenIDDesc  8303 non-null   object        \n",
      " 7   ResultsIDDesc      1328 non-null   object        \n",
      "dtypes: datetime64[ns](1), object(7)\n",
      "memory usage: 539.6+ KB\n",
      "None\n"
     ]
    }
   ],
   "source": [
    "bite_df['bite_date'] = pd.to_datetime(bite_df['bite_date'], errors='coerce')\n",
    "print(bite_df.info())"
   ]
  },
  {
   "cell_type": "code",
   "execution_count": 10,
   "id": "73933196",
   "metadata": {},
   "outputs": [
    {
     "name": "stdout",
     "output_type": "stream",
     "text": [
      "<class 'pandas.core.frame.DataFrame'>\n",
      "RangeIndex: 2871 entries, 0 to 2870\n",
      "Data columns (total 3 columns):\n",
      " #   Column     Non-Null Count  Dtype         \n",
      "---  ------     --------------  -----         \n",
      " 0   date       2871 non-null   datetime64[ns]\n",
      " 1   illum_pct  2871 non-null   float64       \n",
      " 2   phase      2871 non-null   object        \n",
      "dtypes: datetime64[ns](1), float64(1), object(1)\n",
      "memory usage: 67.4+ KB\n",
      "None\n"
     ]
    }
   ],
   "source": [
    "moon_df['date'] = pd.to_datetime(moon_df['date'])\n",
    "print(moon_df.info())"
   ]
  },
  {
   "attachments": {},
   "cell_type": "markdown",
   "id": "6a257b50",
   "metadata": {},
   "source": [
    "We will need to join our data, using the date. Currently our bite dataframe possesses empty timestamps in the datetime (00:00:00.00) and our lunar dataframe records all times at exactly noon (12:00:00.00). We will convert the column to just the date, and then need to again set the column as datetime64."
   ]
  },
  {
   "cell_type": "code",
   "execution_count": 11,
   "id": "40a5d41b",
   "metadata": {},
   "outputs": [
    {
     "name": "stdout",
     "output_type": "stream",
     "text": [
      "<class 'pandas.core.frame.DataFrame'>\n",
      "RangeIndex: 2871 entries, 0 to 2870\n",
      "Data columns (total 3 columns):\n",
      " #   Column     Non-Null Count  Dtype  \n",
      "---  ------     --------------  -----  \n",
      " 0   date       2871 non-null   object \n",
      " 1   illum_pct  2871 non-null   float64\n",
      " 2   phase      2871 non-null   object \n",
      "dtypes: float64(1), object(2)\n",
      "memory usage: 67.4+ KB\n",
      "None\n",
      "<class 'pandas.core.frame.DataFrame'>\n",
      "RangeIndex: 2871 entries, 0 to 2870\n",
      "Data columns (total 3 columns):\n",
      " #   Column     Non-Null Count  Dtype         \n",
      "---  ------     --------------  -----         \n",
      " 0   date       2871 non-null   datetime64[ns]\n",
      " 1   illum_pct  2871 non-null   float64       \n",
      " 2   phase      2871 non-null   object        \n",
      "dtypes: datetime64[ns](1), float64(1), object(1)\n",
      "memory usage: 67.4+ KB\n",
      "None\n"
     ]
    }
   ],
   "source": [
    "moon_df['date'] = moon_df['date'].dt.date\n",
    "print(moon_df.info())\n",
    "moon_df['date'] = pd.to_datetime(moon_df['date'])\n",
    "print(moon_df.info())"
   ]
  },
  {
   "attachments": {},
   "cell_type": "markdown",
   "id": "88ad0de5",
   "metadata": {},
   "source": [
    "We now combine our two dataframes on the date."
   ]
  },
  {
   "cell_type": "code",
   "execution_count": 12,
   "id": "b7ffaa66",
   "metadata": {},
   "outputs": [
    {
     "name": "stdout",
     "output_type": "stream",
     "text": [
      "   bite_date SpeciesIDDesc BreedIDDesc GenderIDDesc    color victim_zip  \\\n",
      "0 2009-10-29           CAT        None       FEMALE     GRAY      40206   \n",
      "1 2009-12-02           DOG        None         MALE  TAN-BRN      40291   \n",
      "2 2009-12-11           DOG        None         MALE  BLK-BRN      40272   \n",
      "3 2009-12-21           DOG        None      UNKNOWN    BLACK      40218   \n",
      "4 2009-12-24           DOG        None         MALE  BRN-WHT      40165   \n",
      "\n",
      "  WhereBittenIDDesc ResultsIDDesc       date  illum_pct            phase  \n",
      "0              BODY       UNKNOWN 2009-10-29      80.90   waxing gibbous  \n",
      "1              BODY       UNKNOWN 2009-12-02      99.96             full  \n",
      "2              BODY       UNKNOWN 2009-12-11      24.10  waning crescent  \n",
      "3              HEAD       UNKNOWN 2009-12-21      21.11  waxing crescent  \n",
      "4              HEAD       UNKNOWN 2009-12-24      47.87    first quarter  \n"
     ]
    }
   ],
   "source": [
    "df = pd.merge(bite_df, moon_df, left_on='bite_date', right_on='date')\n",
    "print(df.head())"
   ]
  },
  {
   "attachments": {},
   "cell_type": "markdown",
   "id": "3a430e80",
   "metadata": {},
   "source": [
    "For the sake of having a copy on file instead of memory, I will now save our merged dataframe as a CSV file."
   ]
  },
  {
   "cell_type": "code",
   "execution_count": 13,
   "id": "0b67f294",
   "metadata": {},
   "outputs": [],
   "source": [
    "df.to_csv('assets/merged_df.csv')"
   ]
  },
  {
   "attachments": {},
   "cell_type": "markdown",
   "id": "f73e8796",
   "metadata": {},
   "source": [
    "Now that our data is all in one dataframe, is is time for a bit of exploratory data analysis."
   ]
  },
  {
   "cell_type": "code",
   "execution_count": 14,
   "id": "554ae718",
   "metadata": {},
   "outputs": [
    {
     "name": "stdout",
     "output_type": "stream",
     "text": [
      "                            bite_date SpeciesIDDesc BreedIDDesc GenderIDDesc  \\\n",
      "count                            8631          8530        3696         6355   \n",
      "unique                            NaN             9         101            3   \n",
      "top                               NaN           DOG    PIT BULL         MALE   \n",
      "freq                              NaN          6883        1078         3769   \n",
      "mean    2013-10-14 19:02:31.407716352           NaN         NaN          NaN   \n",
      "min               2009-10-29 00:00:00           NaN         NaN          NaN   \n",
      "25%               2011-11-14 00:00:00           NaN         NaN          NaN   \n",
      "50%               2013-09-12 00:00:00           NaN         NaN          NaN   \n",
      "75%               2015-08-18 12:00:00           NaN         NaN          NaN   \n",
      "max               2017-09-07 00:00:00           NaN         NaN          NaN   \n",
      "std                               NaN           NaN         NaN          NaN   \n",
      "\n",
      "        color victim_zip WhereBittenIDDesc ResultsIDDesc  \\\n",
      "count    6307       6879              8303          1328   \n",
      "unique    699        226                 3             3   \n",
      "top     BLACK      40272              BODY       UNKNOWN   \n",
      "freq      662        371              6151          1195   \n",
      "mean      NaN        NaN               NaN           NaN   \n",
      "min       NaN        NaN               NaN           NaN   \n",
      "25%       NaN        NaN               NaN           NaN   \n",
      "50%       NaN        NaN               NaN           NaN   \n",
      "75%       NaN        NaN               NaN           NaN   \n",
      "max       NaN        NaN               NaN           NaN   \n",
      "std       NaN        NaN               NaN           NaN   \n",
      "\n",
      "                                 date    illum_pct           phase  \n",
      "count                            8631  8631.000000            8631  \n",
      "unique                            NaN          NaN               8  \n",
      "top                               NaN          NaN  waning gibbous  \n",
      "freq                              NaN          NaN            1352  \n",
      "mean    2013-10-14 19:02:31.407716352    50.310014             NaN  \n",
      "min               2009-10-29 00:00:00     0.000000             NaN  \n",
      "25%               2011-11-14 00:00:00    15.440000             NaN  \n",
      "50%               2013-09-12 00:00:00    50.130000             NaN  \n",
      "75%               2015-08-18 12:00:00    85.525000             NaN  \n",
      "max               2017-09-07 00:00:00   100.000000             NaN  \n",
      "std                               NaN    35.260873             NaN  \n"
     ]
    }
   ],
   "source": [
    "print(df.describe(include='all', datetime_is_numeric=True))"
   ]
  },
  {
   "cell_type": "code",
   "execution_count": 15,
   "id": "acfb4890",
   "metadata": {},
   "outputs": [
    {
     "name": "stdout",
     "output_type": "stream",
     "text": [
      "PIT BULL           1078\n",
      "GERM SHEPHERD       323\n",
      "LABRADOR RETRIV     248\n",
      "BOXER               181\n",
      "CHICHAUHUA          164\n",
      "                   ... \n",
      "RED HEELER            1\n",
      "BRIARD                1\n",
      "CHOCOLATE LAB.        1\n",
      "FOX TERRIER MIX       1\n",
      "IRISH WOLFHOUND       1\n",
      "Name: BreedIDDesc, Length: 101, dtype: int64\n",
      "['CAT' 'DOG' 'BAT' 'RACCOON' 'OTHER' None 'HORSE' 'RABBIT' 'SKUNK'\n",
      " 'FERRET']\n",
      "DOG        6883\n",
      "CAT        1529\n",
      "BAT          76\n",
      "RACCOON      21\n",
      "OTHER         8\n",
      "HORSE         5\n",
      "FERRET        4\n",
      "RABBIT        3\n",
      "SKUNK         1\n",
      "Name: SpeciesIDDesc, dtype: int64\n"
     ]
    }
   ],
   "source": [
    "# What kinds of dogs are out there biting the citizens of Louisville?\n",
    "breed_total = df[\"BreedIDDesc\"].value_counts()\n",
    "print(breed_total)\n",
    "\n",
    "# What types of animals appear on this list?\n",
    "unique_species = df['SpeciesIDDesc'].unique()\n",
    "print(unique_species)\n",
    "\n",
    "# How many bites from these different species?\n",
    "species_total = df[\"SpeciesIDDesc\"].value_counts()\n",
    "print(species_total)"
   ]
  },
  {
   "attachments": {},
   "cell_type": "markdown",
   "id": "1a3ba2ff",
   "metadata": {},
   "source": [
    "+ Fewer horse bites than one may assume for Kentucky. \n",
    "+ With seventy-six reported bat bites, I now question some of the information that documentarian David Attenborough has mentioned, seemingly contradicting how he claims bats behave. \n",
    "+ I also wonder if our one unfortunate skunk-bite victim knows how unique their situation really was."
   ]
  },
  {
   "cell_type": "code",
   "execution_count": 16,
   "id": "4ceda466",
   "metadata": {},
   "outputs": [
    {
     "name": "stdout",
     "output_type": "stream",
     "text": [
      "waning gibbous     1352\n",
      "waning crescent    1300\n",
      "waxing gibbous     1295\n",
      "waxing crescent    1279\n",
      "last quarter        883\n",
      "first quarter       863\n",
      "full                832\n",
      "new                 827\n",
      "Name: phase, dtype: int64\n"
     ]
    }
   ],
   "source": [
    "# How many total bites occurred during each moon phase?\n",
    "phases_total = df[\"phase\"].value_counts()\n",
    "print(phases_total)"
   ]
  },
  {
   "attachments": {},
   "cell_type": "markdown",
   "id": "cd4b10d8",
   "metadata": {},
   "source": [
    "Full moons appear to be on the low end of total reported bites."
   ]
  },
  {
   "cell_type": "code",
   "execution_count": 17,
   "id": "6ce56a3b",
   "metadata": {},
   "outputs": [],
   "source": [
    "# df.corr()"
   ]
  },
  {
   "attachments": {},
   "cell_type": "markdown",
   "id": "5c762cad",
   "metadata": {},
   "source": [
    "To find any correlation between between moon phases and bites, I believe we'll also need to include dates in which no bites were reported. For this we will be better off making another call to tailor a separate dataframe to our parameters. We'll start with ALL moon phases and dates and join bite data to include the necessary data."
   ]
  },
  {
   "cell_type": "code",
   "execution_count": 22,
   "id": "e8405ed1",
   "metadata": {},
   "outputs": [
    {
     "name": "stdout",
     "output_type": "stream",
     "text": [
      "                     date  illum_pct           phase\n",
      "0  2009-10-29 12:00:00.00      80.90  waxing gibbous\n",
      "1  2009-10-30 12:00:00.00      88.09  waxing gibbous\n",
      "2  2009-10-31 12:00:00.00      93.90  waxing gibbous\n",
      "3  2009-11-01 12:00:00.00      97.94            full\n",
      "4  2009-11-02 12:00:00.00      99.88            full\n",
      "1!!\n",
      "<class 'pandas.core.frame.DataFrame'>\n",
      "RangeIndex: 2871 entries, 0 to 2870\n",
      "Data columns (total 3 columns):\n",
      " #   Column     Non-Null Count  Dtype         \n",
      "---  ------     --------------  -----         \n",
      " 0   date       2871 non-null   datetime64[ns]\n",
      " 1   illum_pct  2871 non-null   float64       \n",
      " 2   phase      2871 non-null   object        \n",
      "dtypes: datetime64[ns](1), float64(1), object(1)\n",
      "memory usage: 67.4+ KB\n",
      "None\n",
      "2!!\n",
      "<class 'pandas.core.frame.DataFrame'>\n",
      "RangeIndex: 2871 entries, 0 to 2870\n",
      "Data columns (total 3 columns):\n",
      " #   Column     Non-Null Count  Dtype  \n",
      "---  ------     --------------  -----  \n",
      " 0   date       2871 non-null   object \n",
      " 1   illum_pct  2871 non-null   float64\n",
      " 2   phase      2871 non-null   object \n",
      "dtypes: float64(1), object(2)\n",
      "memory usage: 67.4+ KB\n",
      "None\n",
      "3!!\n",
      "<class 'pandas.core.frame.DataFrame'>\n",
      "RangeIndex: 2871 entries, 0 to 2870\n",
      "Data columns (total 3 columns):\n",
      " #   Column     Non-Null Count  Dtype         \n",
      "---  ------     --------------  -----         \n",
      " 0   date       2871 non-null   datetime64[ns]\n",
      " 1   illum_pct  2871 non-null   float64       \n",
      " 2   phase      2871 non-null   object        \n",
      "dtypes: datetime64[ns](1), float64(1), object(1)\n",
      "memory usage: 67.4+ KB\n",
      "None\n"
     ]
    }
   ],
   "source": [
    "# SQL request for moon data for all dates in this timeframe\n",
    "moon_corr_df = pd.read_sql(\"\"\"SELECT \n",
    "                            date, \n",
    "                            illum_pct, \n",
    "                            phase \n",
    "                        FROM \n",
    "                            moon m \n",
    "                        WHERE \n",
    "                            m.date \n",
    "                        BETWEEN \n",
    "                            '2009-10-29' and '2017-09-08' \n",
    "                        ORDER BY \n",
    "                            date;\"\"\", con)\n",
    "\n",
    "print(moon_corr_df.head())\n",
    "\n",
    "# DEBUG make a function out of this?\n",
    "# again convert to datetime, split on date, convert to datetime\n",
    "moon_corr_df['date'] = pd.to_datetime(moon_corr_df['date'])\n",
    "print(\"1!!\")\n",
    "print(moon_corr_df.info())\n",
    "moon_corr_df['date'] = moon_corr_df['date'].dt.date\n",
    "print(\"2!!\")\n",
    "print(moon_corr_df.info())\n",
    "moon_corr_df['date'] = pd.to_datetime(moon_corr_df['date'])\n",
    "print(\"3!!\")\n",
    "print(moon_corr_df.info())"
   ]
  },
  {
   "cell_type": "code",
   "execution_count": 42,
   "id": "14be0c6e",
   "metadata": {},
   "outputs": [
    {
     "name": "stdout",
     "output_type": "stream",
     "text": [
      "        date  illum_pct           phase  bite_date SpeciesIDDesc BreedIDDesc  \\\n",
      "0 2009-10-29      80.90  waxing gibbous 2009-10-29           CAT        None   \n",
      "1 2009-10-30      88.09  waxing gibbous        NaT           NaN         NaN   \n",
      "2 2009-10-31      93.90  waxing gibbous        NaT           NaN         NaN   \n",
      "3 2009-11-01      97.94            full        NaT           NaN         NaN   \n",
      "4 2009-11-02      99.88            full        NaT           NaN         NaN   \n",
      "\n",
      "  GenderIDDesc color victim_zip WhereBittenIDDesc ResultsIDDesc  \n",
      "0       FEMALE  GRAY      40206              BODY       UNKNOWN  \n",
      "1          NaN   NaN        NaN               NaN           NaN  \n",
      "2          NaN   NaN        NaN               NaN           NaN  \n",
      "3          NaN   NaN        NaN               NaN           NaN  \n",
      "4          NaN   NaN        NaN               NaN           NaN  \n"
     ]
    }
   ],
   "source": [
    "corr_df = pd.merge(moon_corr_df, bite_df, how='left', left_on='date', right_on='bite_date')\n",
    "print(corr_df.head())"
   ]
  },
  {
   "cell_type": "code",
   "execution_count": 43,
   "id": "a6f90423",
   "metadata": {},
   "outputs": [
    {
     "name": "stdout",
     "output_type": "stream",
     "text": [
      "           date  illum_pct           phase  bite_date SpeciesIDDesc  \\\n",
      "0    2009-10-29      80.90  waxing gibbous 2009-10-29           CAT   \n",
      "1    2009-10-30      88.09  waxing gibbous        NaT           NaN   \n",
      "2    2009-10-31      93.90  waxing gibbous        NaT           NaN   \n",
      "3    2009-11-01      97.94            full        NaT           NaN   \n",
      "4    2009-11-02      99.88            full        NaT           NaN   \n",
      "...         ...        ...             ...        ...           ...   \n",
      "8850 2017-09-06      99.95            full 2017-09-06           DOG   \n",
      "8851 2017-09-07      98.29            full 2017-09-07           DOG   \n",
      "8852 2017-09-07      98.29            full 2017-09-07           DOG   \n",
      "8853 2017-09-07      98.29            full 2017-09-07           DOG   \n",
      "8854 2017-09-07      98.29            full 2017-09-07           DOG   \n",
      "\n",
      "          BreedIDDesc GenderIDDesc    color victim_zip WhereBittenIDDesc  \\\n",
      "0                None       FEMALE     GRAY      40206              BODY   \n",
      "1                 NaN          NaN      NaN        NaN               NaN   \n",
      "2                 NaN          NaN      NaN        NaN               NaN   \n",
      "3                 NaN          NaN      NaN        NaN               NaN   \n",
      "4                 NaN          NaN      NaN        NaN               NaN   \n",
      "...               ...          ...      ...        ...               ...   \n",
      "8850       CHICHAUHUA       FEMALE      TAN      40206              HEAD   \n",
      "8851       POMERANIAN         MALE      RED      40204              HEAD   \n",
      "8852  LABRADOR RETRIV         MALE    BROWN      47130           UNKNOWN   \n",
      "8853  LABRADOR RETRIV       FEMALE  BLK WHT      40229              BODY   \n",
      "8854            BOXER         None  BRN BLK      40229              BODY   \n",
      "\n",
      "     ResultsIDDesc  bite_corr_data  \n",
      "0          UNKNOWN               1  \n",
      "1              NaN               0  \n",
      "2              NaN               0  \n",
      "3              NaN               0  \n",
      "4              NaN               0  \n",
      "...            ...             ...  \n",
      "8850          None               1  \n",
      "8851          None               1  \n",
      "8852          None               1  \n",
      "8853          None               1  \n",
      "8854          None               1  \n",
      "\n",
      "[8855 rows x 12 columns]\n"
     ]
    }
   ],
   "source": [
    "# Create a new column where each day in \n",
    "# corr_df['moon_corr_data'] = 1\n",
    "\n",
    "# create a new column 'new_col' with 1's and 0's\n",
    "corr_df['bite_corr_data'] = corr_df['bite_date'].apply(lambda x: 1 if not pd.isna(x) else 0)\n",
    "\n",
    "print(corr_df)"
   ]
  },
  {
   "cell_type": "code",
   "execution_count": 45,
   "id": "95787979",
   "metadata": {},
   "outputs": [
    {
     "name": "stdout",
     "output_type": "stream",
     "text": [
      "Correlation coefficient: -0.012269673917378775\n"
     ]
    }
   ],
   "source": [
    "\n",
    "\n",
    "# calculate the correlation between the two columns\n",
    "correlation = corr_df['phase'].astype('category').cat.codes.corr(corr_df['bite_corr_data'])\n",
    "\n",
    "# print the correlation coefficient\n",
    "print('Correlation coefficient:', correlation)\n"
   ]
  },
  {
   "attachments": {},
   "cell_type": "markdown",
   "id": "71a3f47c",
   "metadata": {},
   "source": [
    "A correlation coefficient of -0.012269673917378775 is very close to zero, which suggests that there is little to no linear relationship between the moon phase and the incidence of the event. In other words, the moon phase and the incidence of the event are essentially independent of each other.\n",
    "\n",
    "Note that while there may be no linear relationship between the two variables, it is still possible that they are related in a non-linear way. For example, it's possible that the incidence of the event is highest during certain phases of the moon, but not in a way that can be described by a linear relationship.\n",
    "\n",
    "In summary, a correlation coefficient of -0.012269673917378775 suggests that the moon phase is not a strong predictor of the incidence of the event, and that other factors may be more important in determining when the event occurs."
   ]
  },
  {
   "cell_type": "code",
   "execution_count": 49,
   "id": "0f256e59",
   "metadata": {},
   "outputs": [
    {
     "name": "stdout",
     "output_type": "stream",
     "text": [
      "phase\n",
      "first quarter     NaN\n",
      "waxing gibbous    NaN\n",
      "full              NaN\n",
      "waning gibbous    NaN\n",
      "last quarter      NaN\n",
      "waning crescent   NaN\n",
      "new               NaN\n",
      "waxing crescent   NaN\n",
      "dtype: float64\n"
     ]
    }
   ],
   "source": [
    "# group by moon_phase and calculate correlation coefficient\n",
    "#corr_grouped = corr_df.groupby('phase')\n",
    "#corr = corr_grouped.corr().iloc[0::2,-1]\n",
    "\n",
    "#print(corr)\n",
    "\n",
    "\n",
    "\n",
    "\n",
    "# convert \"phase\" column to categorical data type\n",
    "# corr_df[\"phase\"] = pd.Categorical(corr_df[\"phase\"], categories=['first quarter', 'waxing gibbous', 'full', \n",
    "#                                                                 'waning gibbous', 'last quarter', \n",
    "#                                                                 'waning crescent', 'new', 'waxing crescent'])\n",
    "\n",
    "# # group the dataframe by \"phase\" and calculate correlation coefficients for each group\n",
    "# corr_grouped = corr_df.groupby('phase')\n",
    "# correlations = corr_grouped.apply(lambda x: x['phase'].cat.codes.corr(x['bite_corr_data']))\n",
    "\n",
    "# # print the correlation coefficients for each moon phase\n",
    "# print(correlations)"
   ]
  }
 ],
 "metadata": {
  "kernelspec": {
   "display_name": "Python 3 (ipykernel)",
   "language": "python",
   "name": "python3"
  },
  "language_info": {
   "codemirror_mode": {
    "name": "ipython",
    "version": 3
   },
   "file_extension": ".py",
   "mimetype": "text/x-python",
   "name": "python",
   "nbconvert_exporter": "python",
   "pygments_lexer": "ipython3",
   "version": "3.10.8"
  }
 },
 "nbformat": 4,
 "nbformat_minor": 5
}
